{
 "cells": [
  {
   "cell_type": "code",
   "execution_count": 1,
   "id": "b3cd3e4b",
   "metadata": {},
   "outputs": [
    {
     "name": "stdout",
     "output_type": "stream",
     "text": [
      "Enter the city : mumbai\n",
      "Weather in mumbai:\n",
      "Temperature: 30.99 °C\n",
      "Humidity: 40%\n",
      "Condition: smoke\n"
     ]
    }
   ],
   "source": [
    "import requests, json\n",
    "\n",
    "def kelvin_to_celsius(kelvin):\n",
    "    return kelvin - 273.15\n",
    "\n",
    "def get_weather(api_key, location):\n",
    "    base_url = \"http://api.openweathermap.org/data/2.5/weather\"\n",
    "    params = {\"q\": location, \"appid\": api_key}\n",
    "\n",
    "    try:\n",
    "        response = requests.get(base_url, params=params)\n",
    "        data = response.json()\n",
    "\n",
    "        temperature_kelvin = data[\"main\"][\"temp\"]\n",
    "        temperature_celsius = kelvin_to_celsius(temperature_kelvin)\n",
    "        humidity = data[\"main\"][\"humidity\"]\n",
    "        weather_condition = data[\"weather\"][0][\"description\"]\n",
    "\n",
    "        print(f\"Weather in {location}:\")\n",
    "        print(f\"Temperature: {temperature_celsius:.2f} °C\")\n",
    "        print(f\"Humidity: {humidity}%\")\n",
    "        print(f\"Condition: {weather_condition}\")\n",
    "\n",
    "    except requests.RequestException as e:\n",
    "        print(f\"Error fetching data: {e}\")\n",
    "\n",
    "if __name__ == \"__main__\":\n",
    "\n",
    "    api_key = \"05e8b776a44e435cfae660c187d8ab5c\"\n",
    "    location = input(\"Enter the city : \")\n",
    "\n",
    "    get_weather(api_key, location)"
   ]
  },
  {
   "cell_type": "code",
   "execution_count": null,
   "id": "aebff087",
   "metadata": {},
   "outputs": [],
   "source": []
  }
 ],
 "metadata": {
  "kernelspec": {
   "display_name": "Python 3 (ipykernel)",
   "language": "python",
   "name": "python3"
  },
  "language_info": {
   "codemirror_mode": {
    "name": "ipython",
    "version": 3
   },
   "file_extension": ".py",
   "mimetype": "text/x-python",
   "name": "python",
   "nbconvert_exporter": "python",
   "pygments_lexer": "ipython3",
   "version": "3.11.5"
  }
 },
 "nbformat": 4,
 "nbformat_minor": 5
}
